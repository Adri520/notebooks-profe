{
 "cells": [
  {
   "cell_type": "markdown",
   "metadata": {},
   "source": [
    "**Cargamos el archivo poblacion.csv previamente bajado de ine.es y limpiado.**"
   ]
  },
  {
   "cell_type": "markdown",
   "metadata": {},
   "source": [
    "import pandas as pd\n",
    "df = pd.read_csv(f'poblacion.csv', sep=';',thousands='.')\n",
    "print(df)"
   ]
  },
  {
   "cell_type": "code",
   "execution_count": 27,
   "metadata": {},
   "outputs": [],
   "source": [
    "df = df.drop(columns=['Sexo','Edad', 'Provincias'])"
   ]
  },
  {
   "cell_type": "code",
   "execution_count": 28,
   "metadata": {},
   "outputs": [
    {
     "name": "stdout",
     "output_type": "stream",
     "text": [
      "               Periodo     Total\n",
      "0   1 de enero de 2020  47332614\n",
      "1   1 de julio de 2019  47105358\n",
      "2   1 de enero de 2019  46937060\n",
      "3   1 de julio de 2018  46728814\n",
      "4   1 de enero de 2018  46658447\n",
      "..                 ...       ...\n",
      "94  1 de enero de 1973  34800600\n",
      "95  1 de julio de 1972  34595886\n",
      "96  1 de enero de 1972  34408338\n",
      "97  1 de julio de 1971  34216856\n",
      "98  1 de enero de 1971  34040642\n",
      "\n",
      "[99 rows x 2 columns]\n"
     ]
    }
   ],
   "source": [
    "print(df)"
   ]
  },
  {
   "cell_type": "code",
   "execution_count": 31,
   "metadata": {},
   "outputs": [],
   "source": [
    "df[\"Periodo\"] = df[\"Periodo\"].values[::-1]"
   ]
  },
  {
   "cell_type": "code",
   "execution_count": 33,
   "metadata": {},
   "outputs": [],
   "source": [
    "df[\"Total\"] = df[\"Total\"].values[::-1]"
   ]
  },
  {
   "cell_type": "code",
   "execution_count": 34,
   "metadata": {},
   "outputs": [
    {
     "name": "stdout",
     "output_type": "stream",
     "text": [
      "               Periodo     Total\n",
      "0   1 de enero de 1971  34040642\n",
      "1   1 de julio de 1971  34216856\n",
      "2   1 de enero de 1972  34408338\n",
      "3   1 de julio de 1972  34595886\n",
      "4   1 de enero de 1973  34800600\n",
      "..                 ...       ...\n",
      "94  1 de enero de 2018  46658447\n",
      "95  1 de julio de 2018  46728814\n",
      "96  1 de enero de 2019  46937060\n",
      "97  1 de julio de 2019  47105358\n",
      "98  1 de enero de 2020  47332614\n",
      "\n",
      "[99 rows x 2 columns]\n"
     ]
    }
   ],
   "source": [
    "print(df)"
   ]
  },
  {
   "cell_type": "code",
   "execution_count": 36,
   "metadata": {},
   "outputs": [
    {
     "data": {
      "text/plain": [
       "<AxesSubplot:xlabel='Periodo'>"
      ]
     },
     "execution_count": 36,
     "metadata": {},
     "output_type": "execute_result"
    },
    {
     "data": {
      "image/png": "[encoded data removed]",
      "text/plain": [
       "<Figure size 432x288 with 1 Axes>"
      ]
     },
     "metadata": {
      "needs_background": "light"
     },
     "output_type": "display_data"
    }
   ],
   "source": [
    "df.plot(x='Periodo', rot=45,)\n"
   ]
  },
  {
   "cell_type": "code",
   "execution_count": 25,
   "metadata": {},
   "outputs": [
    {
     "name": "stdout",
     "output_type": "stream",
     "text": [
      "               Periodo       Total\n",
      "0   1 de enero de 2020  47.332.614\n",
      "1   1 de julio de 2019  47.105.358\n",
      "2   1 de enero de 2019  46.937.060\n",
      "3   1 de julio de 2018  46.728.814\n",
      "4   1 de enero de 2018  46.658.447\n",
      "..                 ...         ...\n",
      "94  1 de enero de 1973  34.800.600\n",
      "95  1 de julio de 1972  34.595.886\n",
      "96  1 de enero de 1972  34.408.338\n",
      "97  1 de julio de 1971  34.216.856\n",
      "98  1 de enero de 1971  34.040.642\n",
      "\n",
      "[99 rows x 2 columns]\n"
     ]
    }
   ],
   "source": []
  }
 ],
 "metadata": {
  "kernelspec": {
   "display_name": "Python 3",
   "language": "python",
   "name": "python3"
  },
  "language_info": {
   "codemirror_mode": {
    "name": "ipython",
    "version": 3
   },
   "file_extension": ".py",
   "mimetype": "text/x-python",
   "name": "python",
   "nbconvert_exporter": "python",
   "pygments_lexer": "ipython3",
   "version": "3.9.1rc1"
  }
 },
 "nbformat": 4,
 "nbformat_minor": 4
}
