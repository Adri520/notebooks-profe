{
  "nbformat": 4,
  "nbformat_minor": 0,
  "metadata": {
    "colab": {
      "name": "TemperaturasMedias.ipynb",
      "provenance": []
    },
    "kernelspec": {
      "name": "python3",
      "display_name": "Python 3"
    }
  },
  "cells": [
    {
      "cell_type": "code",
      "metadata": {
        "id": "dAKdKh0g3gi2"
      },
      "source": [
        "from google.colab import files\n",
        "files.upload()"
      ],
      "execution_count": null,
      "outputs": []
    },
    {
      "cell_type": "markdown",
      "metadata": {
        "id": "Qa_U8cCnxeap"
      },
      "source": [
        "Primero descargamos el archivo que contiene las medias de las temperaturas registradas en Vigo durante todos los días del año 2019, ordenadas por meses.\n",
        "Cada fila corresponde a un mes. El primer elemento de la fila es el nombre del mes. El resto de elementos de la fila son las temperaturas, una por día, separadas por comas."
      ]
    },
    {
      "cell_type": "code",
      "metadata": {
        "colab": {
          "base_uri": "https://localhost:8080/"
        },
        "id": "1DAyO3uwxbiu",
        "outputId": "bd721d2b-366b-45c7-9f57-77bdd8e81d61"
      },
      "source": [
        "!wget https://raw.githubusercontent.com/AntonioLagoD/notebooks/main/temperaturas2019.txt"
      ],
      "execution_count": null,
      "outputs": [
        {
          "output_type": "stream",
          "text": [
            "--2020-12-04 22:04:09--  https://raw.githubusercontent.com/AntonioLagoD/notebooks/main/temperaturas2019.txt\n",
            "Resolving raw.githubusercontent.com (raw.githubusercontent.com)... 151.101.0.133, 151.101.64.133, 151.101.128.133, ...\n",
            "Connecting to raw.githubusercontent.com (raw.githubusercontent.com)|151.101.0.133|:443... connected.\n",
            "HTTP request sent, awaiting response... 200 OK\n",
            "Length: 1882 (1.8K) [text/plain]\n",
            "Saving to: ‘temperaturas2019.txt’\n",
            "\n",
            "\rtemperaturas2019.tx   0%[                    ]       0  --.-KB/s               \rtemperaturas2019.tx 100%[===================>]   1.84K  --.-KB/s    in 0s      \n",
            "\n",
            "2020-12-04 22:04:09 (26.2 MB/s) - ‘temperaturas2019.txt’ saved [1882/1882]\n",
            "\n"
          ],
          "name": "stdout"
        }
      ]
    },
    {
      "cell_type": "markdown",
      "metadata": {
        "id": "UZiFYajC_8JY"
      },
      "source": [
        "Establecemos la ruta al archivo"
      ]
    },
    {
      "cell_type": "code",
      "metadata": {
        "id": "sDiB70PA_6Wp"
      },
      "source": [
        "archivoEntrada = \"/content/temperaturas2019.txt\"\n",
        "archivoSalida = \"/content/medias2019.txt\""
      ],
      "execution_count": null,
      "outputs": []
    },
    {
      "cell_type": "markdown",
      "metadata": {
        "id": "gFa8Ks8q_f01"
      },
      "source": [
        "Con el archivo leemos fila a fila y mediante el método ***split()*** se convierte cada fila en una lista. Con ***line.split(',')*** se indica que el separador de datos es la coma."
      ]
    },
    {
      "cell_type": "code",
      "metadata": {
        "id": "JTMUB7PV_ePU",
        "colab": {
          "base_uri": "https://localhost:8080/"
        },
        "outputId": "43df60cc-cca8-438f-fe83-5ea621331db1"
      },
      "source": [
        "with open(archivoEntrada,\"r\") as file1:\n",
        "        for line in file1:\n",
        "          mes = line.split(',')\n",
        "          print (mes)                    "
      ],
      "execution_count": null,
      "outputs": [
        {
          "output_type": "stream",
          "text": [
            "['Enero', '10.2', '8.5', '8.8', '8.9', '8.7', '9.3', '10.6', '10.5', '10.9', '9.9', '8.5', '8.3', '8.8', '9.3', '9.9', '10.5', '8.4', '7.2', '10.4', '9.6', '8.6', '9.6', '11.8', '12.6', '11.3', '10.1', '10.6', '11.1', '10.4', '9.7', '12.0\\n']\n",
            "['Febrero', '8.9', '7.4', '6.8', '8.9', '11.7', '11.0', '10.4', '10.6', '12.3', '11.7', '9.8', '11.3', '12.8', '14.5', '14.2', '13.4', '11.9', '10.0', '8.3', '10.1', '13.9', '15.9', '15.5', '16.4', '16.7', '16.7', '13.6', '12.1\\n']\n",
            "['Marzo', '13.0', '13.4', '13.8', '11.7', '12.8', '10.9', '10.3', '10.7', '12.8', '13.1', '11.7', '10.1', '9.0', '10.2', '11.6', '10.9', '11.3', '11.2', '12.8', '12.8', '13.4', '13.7', '15.9', '18.3', '17.9', '18.3', '18.2', '16.7', '16.3', '14.2', '16.4\\n']\n",
            "['Abril', '15.4', '12.9', '10.5', '8.0', '8.0', '9.7', '10.3', '11.9', '11.3', '12.4', '11.5', '12.8', '13.9', '16.9', '13.9', '14.0', '13.4', '14.3', '17.6', '19.8', '19.6', '13.0', '9.9', '10.7', '11.0', '12.3', '14.0', '16.3', '14.4', '15.0\\n']\n",
            "['Mayo', '16.1', '16.6', '16.8', '17.5', '16.5', '14.8', '15.3', '14.4', '14.6', '15.0', '16.2', '21.9', '22.6', '22.8', '15.6', '14.4', '13.5', '12.4', '12.8', '14.4', '16.6', '16.4', '15.4', '17.3', '19.1', '18.1', '18.3', '18.2', '20.8', '24.4', '25.6\\n']\n",
            "['Junio', '22.5', '17.2', '17.7', '16.2', '14.4', '13.4', '13.6', '14.0', '14.7', '14.5', '16.2', '14.1', '13.9', '14.6', '15.6', '15.5', '15.3', '17.0', '17.5', '18.2', '17.6', '18.3', '18.6', '17.7', '18.6', '17.7', '18.1', '18.5', '18.1', '18.4\\n']\n",
            "['Julio', '20.7', '22.2', '19.5', '18.5', '19.2', '19.0', '19.1', '20.1', '21.7', '23.6', '23.5', '24.4', '20.5', '20.3', '20.6', '22.6', '21.8', '19.9', '19.7', '19.5', '21.2', '23.0', '19.2', '19.6', '20.2', '18.7', '18.5', '18.6', '18.3', '18.0', '19.8\\n']\n",
            "['Agosto', '20.0', '19.5', '20.1', '19.9', '20.2', '20.0', '19.8', '21.3', '20.0', '18.7', '17.7', '18.1', '17.4', '19.3', '20.5', '19.5', '21.5', '19.8', '19.2', '21.2', '24.1', '24.8', '23.1', '19.1', '20.6', '21.8', '19.3', '18.8', '19.0', '19.0', '18.9\\n']\n",
            "['Septiembre', '19.9', '23.8', '24.8', '23.0', '21.1', '21.5', '21.4', '20.9', '17.3', '16.8', '20.0', '22.3', '26.2', '25.0', '24.9', '21.4', '19.9', '17.5', '15.9', '17.6', '18.0', '17.3', '18.1', '18.2', '17.4', '18.3', '17.1', '15.5', '17.3', '19.4\\n']\n",
            "['Octubre', '18.5', '17.0', '16.4', '17.3', '16.3', '17.5', '17.8', '17.7', '15.4', '16.8', '15.6', '17.8', '15.5', '13.2', '14.2', '16.2', '14.8', '15.2', '12.9', '12.1', '12.2', '13.5', '13.9', '14.5', '16.4', '17.2', '17.6', '18.1', '17.6', '18.2', '18.0\\n']\n",
            "['Noviembre', '18.2', '15.3', '14.8', '13.5', '12.9', '12.0', '9.8', '9.1', '11.6', '10.1', '11.9', '11.0', '13.6', '9.9', '7.9', '8.6', '11.0', '9.5', '9.2', '9.2', '11.2', '12.6', '11.0', '12.6', '14.7', '14.8', '13.3', '13.9', '13.9', '13.9\\n']\n",
            "['Diciembre', '11.8', '10.8', '8.3', '8.2', '10.6', '10.4', '10.8', '12.1', '9.2', '10.3', '10.7', '12.4', '13.1', '13.5', '11.2', '8.4', '8.5', '13.5', '11.8', '11.2', '14.0', '12.8', '12.8', '15.3', '15.6', '10.6', '9.8', '12.3', '13.4', '11.3', '11.2']\n"
          ],
          "name": "stdout"
        }
      ]
    },
    {
      "cell_type": "markdown",
      "metadata": {
        "id": "VH_KZNG4DoXS"
      },
      "source": [
        "Pinta bien. Así que vamos a escribir la función que calcula la media:"
      ]
    },
    {
      "cell_type": "code",
      "metadata": {
        "id": "JNMwh74gDxxP"
      },
      "source": [
        "def media(temperaturas):\n",
        "  suma=0\n",
        "  for temperatura in temperaturas:\n",
        "    suma += float(temperatura)\n",
        "  return (round(suma/len(temperaturas),1))\n",
        "with open(archivoEntrada,'r') as file1:\n",
        "    with open(archivoSalida,'w') as file2:\n",
        "      for line in file1:\n",
        "        mes = line.split(',')\n",
        "        nombreMes = mes[0]\n",
        "        mediaMes = media(mes[1:])\n",
        "        print(nombreMes,mediaMes)      \n",
        "        linea = nombreMes + ',' +str(mediaMes)+'\\n'\n",
        "        file2.write(linea)\n",
        "\n"
      ],
      "execution_count": null,
      "outputs": []
    },
    {
      "cell_type": "markdown",
      "metadata": {
        "id": "ZaH5GiZZO-Y2"
      },
      "source": [
        "Ahora vamos con la gráfica:"
      ]
    },
    {
      "cell_type": "code",
      "metadata": {
        "id": "qZC35-AeO7qr"
      },
      "source": [
        "import numpy as np\n",
        "import matplotlib.pyplot as plt\n",
        "archivo = \"medias2019.txt\"\n",
        "data = np.genfromtxt(archivo, delimiter=',', dtype=None, skip_header=0, names=('meses', 'temperatura'),encoding=None)\n",
        "print(data)\n",
        "plt.figure(figsize=(14,8))\n",
        "plt.title(\"Temperatura media por mes en Vigo - 2019\")\n",
        "plt.xlabel(\"Meses\")\n",
        "plt.ylabel(\"ºC\")\n",
        "plt.bar(data['meses'], data['temperatura'], color='orange')\n",
        "plt.legend(['T medias 2019'], loc='upper left')\n",
        "plt.show()\n"
      ],
      "execution_count": null,
      "outputs": []
    }
  ]
}